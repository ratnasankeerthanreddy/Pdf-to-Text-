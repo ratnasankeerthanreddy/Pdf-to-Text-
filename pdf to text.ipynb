{
 "cells": [
  {
   "cell_type": "code",
   "execution_count": 1,
   "metadata": {},
   "outputs": [
    {
     "name": "stdout",
     "output_type": "stream",
     "text": [
      "Collecting pdfminer.six\n",
      "  Downloading pdfminer.six-20200726-py3-none-any.whl (5.6 MB)\n",
      "Requirement already satisfied: sortedcontainers in c:\\users\\sunny\\anaconda3\\lib\\site-packages (from pdfminer.six) (2.1.0)\n",
      "Requirement already satisfied: cryptography in c:\\users\\sunny\\anaconda3\\lib\\site-packages (from pdfminer.six) (2.8)\n",
      "Requirement already satisfied: chardet; python_version > \"3.0\" in c:\\users\\sunny\\anaconda3\\lib\\site-packages (from pdfminer.six) (3.0.4)\n",
      "Requirement already satisfied: cffi!=1.11.3,>=1.8 in c:\\users\\sunny\\anaconda3\\lib\\site-packages (from cryptography->pdfminer.six) (1.14.0)\n",
      "Requirement already satisfied: six>=1.4.1 in c:\\users\\sunny\\anaconda3\\lib\\site-packages (from cryptography->pdfminer.six) (1.14.0)\n",
      "Requirement already satisfied: pycparser in c:\\users\\sunny\\anaconda3\\lib\\site-packages (from cffi!=1.11.3,>=1.8->cryptography->pdfminer.six) (2.20)\n",
      "Installing collected packages: pdfminer.six\n",
      "Successfully installed pdfminer.six-20200726\n"
     ]
    }
   ],
   "source": [
    "!pip install pdfminer.six"
   ]
  },
  {
   "cell_type": "markdown",
   "metadata": {},
   "source": [
    "## type 1 "
   ]
  },
  {
   "cell_type": "code",
   "execution_count": 2,
   "metadata": {},
   "outputs": [],
   "source": [
    "from pdfminer.high_level import extract_text"
   ]
  },
  {
   "cell_type": "code",
   "execution_count": 3,
   "metadata": {},
   "outputs": [],
   "source": [
    "text = extract_text('accenture certificate.pdf')"
   ]
  },
  {
   "cell_type": "code",
   "execution_count": 4,
   "metadata": {},
   "outputs": [
    {
     "data": {
      "text/plain": [
       "'\\t\\n\\nInspiring\\tand\\tempowering\\t\\nfuture\\tprofessionals\\n\\nSankeerthan\\tRatna\\nAccenture\\tDiscovery\\tProgram\\n\\nCertificate\\tof\\tCompletion\\nJune\\t18th,\\t2020\\n\\nOver\\tthe\\tperiod\\tof\\tMay\\t2020\\tto\\tJune\\t2020,\\tSankeerthan\\tRatna\\thas\\tcompleted\\tpractical\\ttask\\tmodules\\tin:\\n\\nSet\\tProject\\tPriorities\\nAssemble\\ta\\tplan\\nUser\\tJourney\\tRedesign\\nOutcomes\\tAnalysis\\nFix\\tthe\\terrors\\n\\nChoose\\tyour\\tlanguage\\nPrioritisation\\t&\\tImpact\\tAssessment\\n\\nEnrolment\\tVerification\\tCode\\tjmaQF5PMLYmSJLJMp\\t\\t\\t|\\t\\t\\tUser\\tVerification\\tCode\\t2YuuuwPKMSkXhuRye\\t\\t\\t|\\t\\tIssued\\tby\\tInsideSherpa\\n\\n\\t\\n\\nTom\\tBrunskill\\t\\nCEO,\\tCo-Founder\\tof\\nInsideSherpa\\n\\n\\x0c'"
      ]
     },
     "execution_count": 4,
     "metadata": {},
     "output_type": "execute_result"
    }
   ],
   "source": [
    "text"
   ]
  },
  {
   "cell_type": "markdown",
   "metadata": {},
   "source": [
    "### when we have more no of files use this method "
   ]
  },
  {
   "cell_type": "code",
   "execution_count": 5,
   "metadata": {},
   "outputs": [],
   "source": [
    "with open('accenture certificate.pdf','rb') as f:\n",
    "    text = extract_text(open('accenture certificate.pdf','rb'))"
   ]
  },
  {
   "cell_type": "code",
   "execution_count": 6,
   "metadata": {},
   "outputs": [
    {
     "data": {
      "text/plain": [
       "'\\t\\n\\nInspiring\\tand\\tempowering\\t\\nfuture\\tprofessionals\\n\\nSankeerthan\\tRatna\\nAccenture\\tDiscovery\\tProgram\\n\\nCertificate\\tof\\tCompletion\\nJune\\t18th,\\t2020\\n\\nOver\\tthe\\tperiod\\tof\\tMay\\t2020\\tto\\tJune\\t2020,\\tSankeerthan\\tRatna\\thas\\tcompleted\\tpractical\\ttask\\tmodules\\tin:\\n\\nSet\\tProject\\tPriorities\\nAssemble\\ta\\tplan\\nUser\\tJourney\\tRedesign\\nOutcomes\\tAnalysis\\nFix\\tthe\\terrors\\n\\nChoose\\tyour\\tlanguage\\nPrioritisation\\t&\\tImpact\\tAssessment\\n\\nEnrolment\\tVerification\\tCode\\tjmaQF5PMLYmSJLJMp\\t\\t\\t|\\t\\t\\tUser\\tVerification\\tCode\\t2YuuuwPKMSkXhuRye\\t\\t\\t|\\t\\tIssued\\tby\\tInsideSherpa\\n\\n\\t\\n\\nTom\\tBrunskill\\t\\nCEO,\\tCo-Founder\\tof\\nInsideSherpa\\n\\n\\x0c'"
      ]
     },
     "execution_count": 6,
     "metadata": {},
     "output_type": "execute_result"
    }
   ],
   "source": [
    "text"
   ]
  },
  {
   "cell_type": "markdown",
   "metadata": {},
   "source": [
    "## type 2"
   ]
  },
  {
   "cell_type": "code",
   "execution_count": 7,
   "metadata": {},
   "outputs": [],
   "source": [
    "from pdfminer.pdfinterp import PDFResourceManager, PDFPageInterpreter\n",
    "from pdfminer.converter import TextConverter\n",
    "from pdfminer.layout import LAParams\n",
    "from pdfminer.pdfpage import PDFPage\n",
    "from io import StringIO"
   ]
  },
  {
   "cell_type": "code",
   "execution_count": 8,
   "metadata": {},
   "outputs": [],
   "source": [
    "def convert_pdf_to_txt(path):\n",
    "    rsrcmgr = PDFResourceManager()\n",
    "    retstr = StringIO()\n",
    "    codec = 'utf-8'\n",
    "    laparams = LAParams()\n",
    "    device = TextConverter(rsrcmgr, retstr, codec=codec, laparams=laparams)\n",
    "    fp = open(path, 'rb')\n",
    "    interpreter = PDFPageInterpreter(rsrcmgr, device)\n",
    "    password = \"\"\n",
    "    maxpages = 0\n",
    "    caching = True\n",
    "    pagenos=set()\n",
    "\n",
    "    for page in PDFPage.get_pages(fp, pagenos, maxpages=maxpages, password=password,caching=caching, check_extractable=True):\n",
    "        interpreter.process_page(page)\n",
    "\n",
    "    text = retstr.getvalue()\n",
    "\n",
    "    fp.close()\n",
    "    device.close()\n",
    "    retstr.close()\n",
    "    return text"
   ]
  },
  {
   "cell_type": "code",
   "execution_count": 9,
   "metadata": {},
   "outputs": [
    {
     "data": {
      "text/plain": [
       "'\\t\\n\\nInspiring\\tand\\tempowering\\t\\nfuture\\tprofessionals\\n\\nSankeerthan\\tRatna\\nAccenture\\tDiscovery\\tProgram\\n\\nCertificate\\tof\\tCompletion\\nJune\\t18th,\\t2020\\n\\nOver\\tthe\\tperiod\\tof\\tMay\\t2020\\tto\\tJune\\t2020,\\tSankeerthan\\tRatna\\thas\\tcompleted\\tpractical\\ttask\\tmodules\\tin:\\n\\nSet\\tProject\\tPriorities\\nAssemble\\ta\\tplan\\nUser\\tJourney\\tRedesign\\nOutcomes\\tAnalysis\\nFix\\tthe\\terrors\\n\\nChoose\\tyour\\tlanguage\\nPrioritisation\\t&\\tImpact\\tAssessment\\n\\nEnrolment\\tVerification\\tCode\\tjmaQF5PMLYmSJLJMp\\t\\t\\t|\\t\\t\\tUser\\tVerification\\tCode\\t2YuuuwPKMSkXhuRye\\t\\t\\t|\\t\\tIssued\\tby\\tInsideSherpa\\n\\n\\t\\n\\nTom\\tBrunskill\\t\\nCEO,\\tCo-Founder\\tof\\nInsideSherpa\\n\\n\\x0c'"
      ]
     },
     "execution_count": 9,
     "metadata": {},
     "output_type": "execute_result"
    }
   ],
   "source": [
    "convert_pdf_to_txt(\"accenture certificate.pdf\")"
   ]
  },
  {
   "cell_type": "markdown",
   "metadata": {},
   "source": [
    "## TYPE 3 "
   ]
  },
  {
   "cell_type": "code",
   "execution_count": 3,
   "metadata": {},
   "outputs": [],
   "source": [
    "import io\n",
    "\n",
    "from pdfminer.pdfinterp import PDFResourceManager, PDFPageInterpreter\n",
    "from pdfminer.converter import TextConverter\n",
    "from pdfminer.layout import LAParams\n",
    "from pdfminer.pdfpage import PDFPage"
   ]
  },
  {
   "cell_type": "code",
   "execution_count": 4,
   "metadata": {},
   "outputs": [],
   "source": [
    "def convert_pdf_to_txt(path):\n",
    "    rsrcmgr = PDFResourceManager()\n",
    "    retstr = io.StringIO()\n",
    "    codec = 'utf-8'\n",
    "    laparams = LAParams()\n",
    "    device = TextConverter(rsrcmgr, retstr, codec=codec, laparams=laparams)\n",
    "    fp = open(path, 'rb')\n",
    "    interpreter = PDFPageInterpreter(rsrcmgr, device)\n",
    "    password = \"\"\n",
    "    maxpages = 0\n",
    "    caching = True\n",
    "    pagenos = set()\n",
    "\n",
    "    for page in PDFPage.get_pages(fp, pagenos, maxpages=maxpages,\n",
    "                                  password=password,\n",
    "                                  caching=caching,\n",
    "                                  check_extractable=True):\n",
    "        interpreter.process_page(page)\n",
    "\n",
    "\n",
    "\n",
    "    fp.close()\n",
    "    device.close()\n",
    "    text = retstr.getvalue()\n",
    "    retstr.close()\n",
    "    return text"
   ]
  },
  {
   "cell_type": "code",
   "execution_count": 5,
   "metadata": {},
   "outputs": [
    {
     "data": {
      "text/plain": [
       "'\\t\\n\\nInspiring\\tand\\tempowering\\t\\nfuture\\tprofessionals\\n\\nSankeerthan\\tRatna\\nAccenture\\tDiscovery\\tProgram\\n\\nCertificate\\tof\\tCompletion\\nJune\\t18th,\\t2020\\n\\nOver\\tthe\\tperiod\\tof\\tMay\\t2020\\tto\\tJune\\t2020,\\tSankeerthan\\tRatna\\thas\\tcompleted\\tpractical\\ttask\\tmodules\\tin:\\n\\nSet\\tProject\\tPriorities\\nAssemble\\ta\\tplan\\nUser\\tJourney\\tRedesign\\nOutcomes\\tAnalysis\\nFix\\tthe\\terrors\\n\\nChoose\\tyour\\tlanguage\\nPrioritisation\\t&\\tImpact\\tAssessment\\n\\nEnrolment\\tVerification\\tCode\\tjmaQF5PMLYmSJLJMp\\t\\t\\t|\\t\\t\\tUser\\tVerification\\tCode\\t2YuuuwPKMSkXhuRye\\t\\t\\t|\\t\\tIssued\\tby\\tInsideSherpa\\n\\n\\t\\n\\nTom\\tBrunskill\\t\\nCEO,\\tCo-Founder\\tof\\nInsideSherpa\\n\\n\\x0c'"
      ]
     },
     "execution_count": 5,
     "metadata": {},
     "output_type": "execute_result"
    }
   ],
   "source": [
    "convert_pdf_to_txt(\"accenture certificate.pdf\")"
   ]
  },
  {
   "cell_type": "code",
   "execution_count": null,
   "metadata": {},
   "outputs": [],
   "source": []
  }
 ],
 "metadata": {
  "kernelspec": {
   "display_name": "Python 3",
   "language": "python",
   "name": "python3"
  },
  "language_info": {
   "codemirror_mode": {
    "name": "ipython",
    "version": 3
   },
   "file_extension": ".py",
   "mimetype": "text/x-python",
   "name": "python",
   "nbconvert_exporter": "python",
   "pygments_lexer": "ipython3",
   "version": "3.7.3"
  }
 },
 "nbformat": 4,
 "nbformat_minor": 4
}
